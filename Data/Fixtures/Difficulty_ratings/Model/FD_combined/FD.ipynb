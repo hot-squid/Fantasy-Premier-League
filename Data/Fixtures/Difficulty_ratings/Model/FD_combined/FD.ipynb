{
 "cells": [
  {
   "cell_type": "code",
   "execution_count": 21,
   "metadata": {},
   "outputs": [],
   "source": [
    "import pandas as pd"
   ]
  },
  {
   "cell_type": "code",
   "execution_count": 22,
   "metadata": {},
   "outputs": [],
   "source": [
    "team_points = pd.read_csv(r'C:\\Users\\thoma\\Code\\Projects\\Fantasy-Premier-League\\Data\\Fixtures\\Difficulty_ratings\\Model\\Team_points_rank\\Team_points_rank_14.csv')\n",
    "team_xG = pd.read_csv(r'C:\\Users\\thoma\\Code\\Projects\\Fantasy-Premier-League\\Data\\Fixtures\\Difficulty_ratings\\Model\\Team_xG_rank\\Team_xG_rank_14.csv')"
   ]
  },
  {
   "cell_type": "code",
   "execution_count": 25,
   "metadata": {},
   "outputs": [
    {
     "name": "stderr",
     "output_type": "stream",
     "text": [
      "C:\\Users\\thoma\\AppData\\Local\\Temp\\ipykernel_27932\\4209576686.py:13: SettingWithCopyWarning: \n",
      "A value is trying to be set on a copy of a slice from a DataFrame.\n",
      "Try using .loc[row_indexer,col_indexer] = value instead\n",
      "\n",
      "See the caveats in the documentation: https://pandas.pydata.org/pandas-docs/stable/user_guide/indexing.html#returning-a-view-versus-a-copy\n",
      "  data['FD_combined'] = (data['Difficulty_xG'] + data['Difficulty_points'])/2\n"
     ]
    }
   ],
   "source": [
    "# Combine datasets\n",
    "FD = team_points.merge(team_xG, on = ['Opponent', 'Position'])\n",
    "\n",
    "# Rename columns\n",
    "FD['Difficulty_points'] = FD['Difficulty_x'].rename(inplace= True)\n",
    "FD['Difficulty_xG'] = FD['Difficulty_y'].rename(inplace= True)\n",
    "FD['points_std'] = FD['z_score'].rename(inplace= True)\n",
    "\n",
    "# Drop unneeded columns\n",
    "data = FD[['Opponent', 'Position', 'xG', 'Difficulty_xG', 'Av_GW_Points', 'Difficulty_points']]\n",
    "\n",
    "# Combined FD\n",
    "data['FD_combined'] = (data['Difficulty_xG'] + data['Difficulty_points'])/2"
   ]
  },
  {
   "cell_type": "code",
   "execution_count": 29,
   "metadata": {},
   "outputs": [],
   "source": [
    "data.to_csv(r'C:\\Users\\thoma\\Code\\Projects\\Fantasy-Premier-League\\Data\\Fixtures\\Difficulty_ratings\\Model\\FD_combined\\Current_FD.csv')"
   ]
  }
 ],
 "metadata": {
  "kernelspec": {
   "display_name": "Python 3",
   "language": "python",
   "name": "python3"
  },
  "language_info": {
   "codemirror_mode": {
    "name": "ipython",
    "version": 3
   },
   "file_extension": ".py",
   "mimetype": "text/x-python",
   "name": "python",
   "nbconvert_exporter": "python",
   "pygments_lexer": "ipython3",
   "version": "3.9.16"
  }
 },
 "nbformat": 4,
 "nbformat_minor": 2
}
