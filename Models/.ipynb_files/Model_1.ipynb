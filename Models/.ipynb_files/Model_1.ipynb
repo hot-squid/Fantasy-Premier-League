{
 "cells": [
  {
   "cell_type": "markdown",
   "metadata": {},
   "source": [
    "# Model 1\n",
    "\n",
    "This model uses the FD_index to choose the best players. The FD_index is a simple calculation of current form/upcoming fixture difficulty. Data for Form and Fixture Difficulty both come from FPL website.\n",
    "\n",
    "The fixture difficulty can be planned for up to 5 weeks. The model will choose the players that have the highest form per lowest fixture difficulty, and optimally select a team given the FPL constraints of budget, position and team limit. "
   ]
  },
  {
   "cell_type": "code",
   "execution_count": 1,
   "metadata": {},
   "outputs": [],
   "source": [
    "import pandas as pd\n",
    "from pulp import LpMaximize, LpProblem, LpVariable, lpSum"
   ]
  },
  {
   "cell_type": "markdown",
   "metadata": {},
   "source": [
    "# Global Parameters"
   ]
  },
  {
   "cell_type": "code",
   "execution_count": 2,
   "metadata": {},
   "outputs": [],
   "source": [
    "Gameweek = 14\n",
    "BUDGET = 800 \n",
    "WEEKS = 1 \n",
    "GK = 1 \n",
    "DEF = 3 \n",
    "MID = 4 \n",
    "FWD = 3 "
   ]
  },
  {
   "cell_type": "code",
   "execution_count": 3,
   "metadata": {},
   "outputs": [],
   "source": [
    "# Read csv dataframe\n",
    "data = pd.read_csv(rf'C:\\Users\\thoma\\Code\\Projects\\Fantasy-Premier-League\\Data\\Players\\Accumulated\\GW_{Gameweek}.csv', index_col=0)"
   ]
  },
  {
   "cell_type": "markdown",
   "metadata": {},
   "source": [
    "# Optimisation Problem"
   ]
  },
  {
   "cell_type": "code",
   "execution_count": 4,
   "metadata": {},
   "outputs": [],
   "source": [
    "# Dynamically create the column name based on the number of weeks\n",
    "column_name = f'FDI_{WEEKS}'\n",
    "\n",
    "# Filter out players with FD_index == 0 to avoid selecting them\n",
    "data = data[data[column_name] > 0]\n",
    "\n",
    "# Create lists of key variables\n",
    "names = data.Last_Name.tolist()\n",
    "teams = data.Team.tolist()\n",
    "positions = data.Position.tolist()\n",
    "prices = data.Cost_Today.tolist()\n",
    "FD_index = data[column_name].tolist()\n",
    "\n",
    "# Initialize the problem\n",
    "prob = LpProblem(\"FPL_Player_Choices\", LpMaximize)\n",
    "\n",
    "# Create binary variables for players\n",
    "players = [LpVariable(f\"player_{i}\", cat=\"Binary\") for i in range(len(data))]\n",
    "\n",
    "# Define the objective function: maximize the sum of FD_index for selected players\n",
    "prob += lpSum(players[i] * FD_index[i] for i in range(len(data)))\n",
    "\n",
    "# Budget constraint: the sum of selected players' prices must be <= BUDGET\n",
    "prob += lpSum(players[i] * prices[i] for i in range(len(data))) <= BUDGET\n",
    "\n",
    "# Budget constraint: the sum of selected players' prices must be <= BUDGET\n",
    "prob += lpSum(players[i] * prices[i] for i in range(len(data))) >= (BUDGET - 75)\n",
    "\n",
    "# Position constraints: enforce exact limits for each position\n",
    "prob += lpSum(players[i] for i in range(len(data)) if positions[i] == 'GK') == GK\n",
    "prob += lpSum(players[i] for i in range(len(data)) if positions[i] == 'DEF') == DEF \n",
    "prob += lpSum(players[i] for i in range(len(data)) if positions[i] == 'MID') == MID \n",
    "prob += lpSum(players[i] for i in range(len(data)) if positions[i] == 'FWD') == FWD  \n",
    "\n",
    "# Club constraint: each team can have at most 3 players\n",
    "for club in data.Team.unique():\n",
    "    prob += lpSum(players[i] for i in range(len(data)) if teams[i] == club) <= 3\n",
    "\n",
    "# Solve the problem\n",
    "prob.solve()\n",
    "\n",
    "# Create a list of selected players\n",
    "selected_players = []\n",
    "for v in prob.variables():\n",
    "    if v.varValue != 0:\n",
    "        index = int(v.name.split(\"_\")[1])\n",
    "        player_info = {\n",
    "            'Name': names[index],\n",
    "            'Team': teams[index],\n",
    "            'Position': positions[index],\n",
    "            'FD_Index': FD_index[index],\n",
    "            'Price': prices[index],\n",
    "        }\n",
    "        selected_players.append(player_info)\n",
    "\n",
    "# Convert selected players to a DataFrame for a better display\n",
    "selected_players_df = pd.DataFrame(selected_players)"
   ]
  },
  {
   "cell_type": "markdown",
   "metadata": {},
   "source": [
    "# Print Team"
   ]
  },
  {
   "cell_type": "code",
   "execution_count": 6,
   "metadata": {},
   "outputs": [
    {
     "name": "stdout",
     "output_type": "stream",
     "text": [
      "           Name         Team Position  FD_Index  Price\n",
      "0          Saka      Arsenal      MID     1.800    104\n",
      "1        Saliba      Arsenal      DEF     1.240     60\n",
      "2      Kelleher    Liverpool       GK     1.100     46\n",
      "3       M.Salah    Liverpool      MID     2.900    132\n",
      "4      J.Timber      Arsenal      DEF     1.160     56\n",
      "5   Wan-Bissaka     West Ham      DEF     1.400     45\n",
      "6         Cunha       Wolves      FWD     2.000     71\n",
      "7      Kluivert  Bournemouth      MID     2.000     54\n",
      "8     Evanilson  Bournemouth      FWD     1.500     60\n",
      "9    João Pedro     Brighton      FWD     1.875     58\n",
      "10       Mitoma     Brighton      MID     1.450     65\n",
      "\n",
      "\n",
      "Total Team Cost: 751\n",
      "Total Team Index 18.425\n"
     ]
    }
   ],
   "source": [
    "# Display the DataFrame\n",
    "print(selected_players_df)\n",
    "\n",
    "print(f'\\n')\n",
    "\n",
    "# Display the total cost and index\n",
    "print(f'Total Team Cost:', sum(selected_players_df.Price))\n",
    "print(f'Total Team Index', sum(selected_players_df.FD_Index))"
   ]
  }
 ],
 "metadata": {
  "kernelspec": {
   "display_name": "Python 3",
   "language": "python",
   "name": "python3"
  },
  "language_info": {
   "codemirror_mode": {
    "name": "ipython",
    "version": 3
   },
   "file_extension": ".py",
   "mimetype": "text/x-python",
   "name": "python",
   "nbconvert_exporter": "python",
   "pygments_lexer": "ipython3",
   "version": "3.13.0"
  }
 },
 "nbformat": 4,
 "nbformat_minor": 2
}
