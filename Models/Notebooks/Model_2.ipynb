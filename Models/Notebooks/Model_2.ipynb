{
 "cells": [
  {
   "cell_type": "markdown",
   "metadata": {},
   "source": [
    "## Model 2\n",
    "\n",
    "Improved form and fixture difficulty calculation.\n",
    "\n",
    "In this model, I created two new features for form and fixture difficulty. Form is a rolling average across 4 gameweeks and Fixture Difficulty is distinct for attacking/defending players and is a combination of teamxG, xGA and FPL points (see analysis folder and article on medium."
   ]
  },
  {
   "cell_type": "code",
   "execution_count": 2,
   "metadata": {},
   "outputs": [],
   "source": [
    "import pandas as pd\n",
    "from sklearn.preprocessing import MinMaxScaler, StandardScaler\n",
    "import warnings\n",
    "# Ignore all warnings\n",
    "warnings.filterwarnings(\"ignore\")\n",
    "\n",
    "pd.set_option('display.max_columns', None)"
   ]
  },
  {
   "cell_type": "code",
   "execution_count": 5,
   "metadata": {},
   "outputs": [],
   "source": [
    "# Enter current gameweek \n",
    "gameweek = 3"
   ]
  },
  {
   "cell_type": "markdown",
   "metadata": {},
   "source": [
    "## Collect data"
   ]
  },
  {
   "cell_type": "code",
   "execution_count": 7,
   "metadata": {},
   "outputs": [],
   "source": [
    "# Initialize an empty list to store the data from each gameweek\n",
    "all_gameweeks = []\n",
    "\n",
    "# Loop through each gameweek\n",
    "for i in range(1, gameweek + 1):  # Adjusting the range to start from 1 to gameweek\n",
    "    # Read the CSV for the current gameweek\n",
    "    gameweek_data = pd.read_csv(rf'C:\\Users\\thoma\\Code\\Projects\\Fantasy-Premier-League\\Data\\2025_26\\Players\\GW_{i}.csv')\n",
    "    \n",
    "    # Append the current gameweek data to the list\n",
    "    all_gameweeks.append(gameweek_data)\n",
    "\n",
    "# Concatenate all dataframes in the list into a single dataframe\n",
    "data = pd.concat(all_gameweeks, axis=0, ignore_index=True)"
   ]
  },
  {
   "cell_type": "markdown",
   "metadata": {},
   "source": [
    "## Calculate form"
   ]
  },
  {
   "cell_type": "code",
   "execution_count": 10,
   "metadata": {},
   "outputs": [],
   "source": [
    "# Sort dataset by Player ID and Gameweek\n",
    "final_data = data.sort_values(by=['Player ID', 'Gameweek'])\n",
    "\n",
    "# Define the rolling window size\n",
    "number_of_games = 2\n",
    "\n",
    "# Calculate the rolling average of GW_Points over the specified number_of_games\n",
    "final_data[\"Form\"] = (\n",
    "    final_data\n",
    "    .groupby(\"Player ID\")[\"GW Points\"]\n",
    "    .transform(lambda x: x.rolling(window=number_of_games).mean().round(3))\n",
    ")\n",
    "\n",
    "# Choose important columns\n",
    "columns = [\n",
    "    'Player ID', 'Name', 'Last_Name', 'Team', 'Position', 'Cost_Today',\n",
    "    'GW Points', 'Form', 'Gameweek', 'Avail'\n",
    "]\n",
    "\n",
    "final_data = final_data[columns]"
   ]
  },
  {
   "cell_type": "markdown",
   "metadata": {},
   "source": [
    "## Add upcoming fixtures "
   ]
  },
  {
   "cell_type": "code",
   "execution_count": 12,
   "metadata": {},
   "outputs": [],
   "source": [
    "# Add fixture list into spreadsheet\n",
    "fixtures = pd.read_csv(r'C:\\Users\\thoma\\Code\\Projects\\Fantasy-Premier-League\\Data\\2025_26\\Fixtures\\Schedule\\Fixtures.csv')\n",
    "\n",
    "# Merge on fixture list\n",
    "final_data = final_data.merge(fixtures, on= 'Team')\n",
    "\n",
    "# Drop unneeded gameweek columns\n",
    "def drop_gw_columns(final_data, gameweek):\n",
    "    # Create lists of columns to drop\n",
    "    columns_to_drop = [f'GW{i}' for i in range(1, gameweek + 1)] + [f'GW{i}' for i in range(gameweek + 6, 39)]\n",
    "    \n",
    "    # Drop columns if they exist in the DataFrame\n",
    "    final_data = final_data.drop(columns=[col for col in columns_to_drop if col in final_data.columns], errors='ignore')\n",
    "    return final_data\n",
    "\n",
    "# Run the loop\n",
    "data = drop_gw_columns(final_data, gameweek)"
   ]
  },
  {
   "cell_type": "markdown",
   "metadata": {},
   "source": [
    "# Current gameweek"
   ]
  },
  {
   "cell_type": "code",
   "execution_count": 13,
   "metadata": {},
   "outputs": [],
   "source": [
    "# filter on current gameweek\n",
    "today = data['Gameweek'].isin([gameweek])\n",
    "data = data[today]"
   ]
  },
  {
   "cell_type": "markdown",
   "metadata": {},
   "source": [
    "## Fixture Difficulty"
   ]
  },
  {
   "cell_type": "code",
   "execution_count": 15,
   "metadata": {},
   "outputs": [],
   "source": [
    "# Import improve fixture difficulty \n",
    "difficulty = pd.read_csv(r'C:\\Users\\thoma\\Code\\Projects\\Fantasy-Premier-League\\Data\\2025_26\\Fixtures\\Difficulty_ratings\\FD_Improved\\Current_FD_Improved.csv', index_col=0)\n",
    "\n",
    "# Create a mapping dictionary from fixture difficulty\n",
    "mapping = difficulty.set_index(['Opponent', 'Position'])['FD_combined'].to_dict()\n",
    "\n",
    "# Map difficulty for NGWs (next gameweeks) using Team and Position\n",
    "for i in range(1, 6):  # NGW1 to NGW5\n",
    "    data[f'NGW{i}'] = data.apply(lambda row: mapping.get((row.iloc[9 + i], row.iloc[4]), None), axis=1)\n",
    "\n",
    "# Loop to create FDI_1 to FDI_5, summing up the values from F_1 to F_i\n",
    "for i in range(1, 6):\n",
    "    # Create FDI_i by summing the appropriate columns\n",
    "    data[f'F_{i}'] = data[[f'NGW{j}' for j in range(1, i+1)]].sum(axis=1)\n",
    "\n",
    "# Calculate accumulated FD_index for up to next 5 gameweeks\n",
    "for i in range(1, 6):\n",
    "    data[f'FDI_{i}'] = round(data.iloc[:, 7] / data.iloc[:, 19 + i], 4)"
   ]
  },
  {
   "cell_type": "code",
   "execution_count": null,
   "metadata": {},
   "outputs": [],
   "source": [
    "# Export to csv for website\n",
    "data.to_csv(r'C:\\Users\\thoma\\Code\\Projects\\Fantasy-Premier-League\\\\Website\\Current_form\\Current_Form_M2.csv')"
   ]
  },
  {
   "cell_type": "markdown",
   "metadata": {},
   "source": [
    "## Optimization"
   ]
  },
  {
   "cell_type": "code",
   "execution_count": 18,
   "metadata": {},
   "outputs": [],
   "source": [
    "import pandas as pd\n",
    "from pulp import LpMaximize, LpProblem, LpVariable, lpSum\n",
    "\n",
    "# Model_1\n",
    "\n",
    "# This model uses the FD_index to choose the best players. The FD_index is a \n",
    "# simple calculation of current form/upcoming fixture difficulty. The fixture\n",
    "# difficulty can be planned for up to 5 weeks. The model will choose the players\n",
    "# that have the highest form per lowest fixture difficulty, and optimally select\n",
    "# a team given the constraints of budget, position and team limit. \n",
    "\n",
    "# Define constants\n",
    "BUDGET = 800 # Choose your budget (1000 = £100m)\n",
    "WEEKS = 1 # Choose how many weeks you want to prepare for between 1 and 5\n",
    "GK = 1 # Goalkeepers required (Choose between 0 and 2)\n",
    "DEF = 3 # Defenders required (Choose between 0 and 5)\n",
    "MID = 4 # Midfielders required (Choose between 0 and 5)\n",
    "FWD = 3\n",
    " #  Forwards required (Choose between 0 and 3)\n",
    "\n",
    "# Use dataset\n",
    "data = data"
   ]
  },
  {
   "cell_type": "code",
   "execution_count": 19,
   "metadata": {},
   "outputs": [
    {
     "name": "stdout",
     "output_type": "stream",
     "text": [
      "                  Name            Team Position  FD_Index  Price\n",
      "0            Fernández         Chelsea      MID    5.5000   65.0\n",
      "1   Junqueira de Jesus         Chelsea      FWD    6.0000   76.0\n",
      "2          Muñoz Mejía  Crystal Palace      DEF    3.5000   55.0\n",
      "3                Guéhi  Crystal Palace      DEF    4.2500   45.0\n",
      "4                 Sarr  Crystal Palace      MID    3.7500   65.0\n",
      "5             Pickford         Everton       GK    4.0000   55.0\n",
      "6           Szoboszlai       Liverpool      MID    3.7500   65.0\n",
      "7             Grealish         Everton      MID    5.2500   66.0\n",
      "8              Ekitiké       Liverpool      FWD    2.7500   87.0\n",
      "9             Gyökeres         Arsenal      FWD    2.1667   90.0\n",
      "10              Timber         Arsenal      DEF    5.2000   56.0\n",
      "Total Team Cost: 725.0\n",
      "Total Team Index 46.1167\n"
     ]
    }
   ],
   "source": [
    "# Dynamically create the column name based on the number of weeks\n",
    "column_name = f'FDI_{WEEKS}'\n",
    "\n",
    "# Filter out players with FD_index == 0 to avoid selecting them\n",
    "data = data[data[column_name] > 0]\n",
    "\n",
    "# Create lists of key variables\n",
    "names = data.Last_Name.tolist()\n",
    "teams = data.Team.tolist()\n",
    "positions = data.Position.tolist()\n",
    "prices = data.Cost_Today.tolist()\n",
    "FD_index = data[column_name].tolist()\n",
    "\n",
    "# Initialize the problem\n",
    "prob = LpProblem(\"FPL_Player_Choices\", LpMaximize)\n",
    "\n",
    "# Create binary variables for players\n",
    "players = [LpVariable(f\"player_{i}\", cat=\"Binary\") for i in range(len(data))]\n",
    "\n",
    "# Define the objective function: maximize the sum of FD_index for selected players\n",
    "prob += lpSum(players[i] * FD_index[i] for i in range(len(data)))\n",
    "\n",
    "# Budget constraint: the sum of selected players' prices must be <= BUDGET\n",
    "prob += lpSum(players[i] * prices[i] for i in range(len(data))) <= BUDGET\n",
    "\n",
    "# Budget constraint: the sum of selected players' prices must be <= BUDGET\n",
    "prob += lpSum(players[i] * prices[i] for i in range(len(data))) >= (BUDGET - 75)\n",
    "\n",
    "# Position constraints: enforce exact limits for each position\n",
    "prob += lpSum(players[i] for i in range(len(data)) if positions[i] == 'GK') == GK\n",
    "prob += lpSum(players[i] for i in range(len(data)) if positions[i] == 'DEF') == DEF \n",
    "prob += lpSum(players[i] for i in range(len(data)) if positions[i] == 'MID') == MID \n",
    "prob += lpSum(players[i] for i in range(len(data)) if positions[i] == 'FWD') == FWD  \n",
    "\n",
    "# Club constraint: each team can have at most 3 players\n",
    "for club in data.Team.unique():\n",
    "    prob += lpSum(players[i] for i in range(len(data)) if teams[i] == club) <= 3\n",
    "\n",
    "# Solve the problem\n",
    "prob.solve()\n",
    "\n",
    "# Create a list of selected players\n",
    "selected_players = []\n",
    "for v in prob.variables():\n",
    "    if v.varValue != 0:\n",
    "        index = int(v.name.split(\"_\")[1])\n",
    "        player_info = {\n",
    "            'Name': names[index],\n",
    "            'Team': teams[index],\n",
    "            'Position': positions[index],\n",
    "            'FD_Index': FD_index[index],\n",
    "            'Price': prices[index],\n",
    "        }\n",
    "        selected_players.append(player_info)\n",
    "\n",
    "# Convert selected players to a DataFrame for a better display\n",
    "selected_players_df = pd.DataFrame(selected_players)\n",
    "\n",
    "# Display the DataFrame\n",
    "print(selected_players_df)\n",
    "\n",
    "# Display the total cost and index\n",
    "print(f'Total Team Cost:', sum(selected_players_df.Price))\n",
    "print(f'Total Team Index', sum(selected_players_df.FD_Index))"
   ]
  }
 ],
 "metadata": {
  "kernelspec": {
   "display_name": "FPL",
   "language": "python",
   "name": "python3"
  },
  "language_info": {
   "codemirror_mode": {
    "name": "ipython",
    "version": 3
   },
   "file_extension": ".py",
   "mimetype": "text/x-python",
   "name": "python",
   "nbconvert_exporter": "python",
   "pygments_lexer": "ipython3",
   "version": "3.9.16"
  }
 },
 "nbformat": 4,
 "nbformat_minor": 2
}
