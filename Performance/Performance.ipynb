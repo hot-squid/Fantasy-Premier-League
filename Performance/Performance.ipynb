{
 "cells": [
  {
   "cell_type": "code",
   "execution_count": 48,
   "metadata": {},
   "outputs": [],
   "source": [
    "import pandas as pd"
   ]
  },
  {
   "cell_type": "code",
   "execution_count": 49,
   "metadata": {},
   "outputs": [],
   "source": [
    "# Global parameter\n",
    "gameweek = 16"
   ]
  },
  {
   "cell_type": "markdown",
   "metadata": {},
   "source": [
    "# Get all gameweek data"
   ]
  },
  {
   "cell_type": "code",
   "execution_count": 50,
   "metadata": {},
   "outputs": [],
   "source": [
    "# Initialize an empty list to store all individual, player gameweek data \n",
    "all_player_sep = []\n",
    "\n",
    "# Loop through each gameweek\n",
    "for i in range(1, gameweek + 1):  # Adjusting the range to start from 1 to gameweek\n",
    "    # Read the CSV for the current gameweek\n",
    "    x = pd.read_csv(rf'C:\\Users\\thoma\\Code\\Projects\\Fantasy-Premier-League\\Data\\Players\\Seperate_GW\\GW_{i}.csv')\n",
    "    \n",
    "    # Append the current gameweek data to the list\n",
    "    all_player_sep.append(x)\n",
    "\n",
    "# Concatenate all dataframes in the list into a single dataframe\n",
    "player_data = pd.concat(all_player_sep, axis=0, ignore_index=True)\n",
    "\n",
    "# Drop unnamed column\n",
    "player_data = player_data.drop(columns = ['Unnamed: 0'])\n",
    "\n",
    "# Sort dataset correctly IMPORTANT\n",
    "player_data = player_data.sort_values(by= ['Player ID','Gameweek'])"
   ]
  },
  {
   "cell_type": "markdown",
   "metadata": {},
   "source": [
    "# Collect team_data from models"
   ]
  },
  {
   "cell_type": "code",
   "execution_count": 51,
   "metadata": {},
   "outputs": [],
   "source": [
    "# Introduce models\n",
    "m1 = pd.read_csv(r'C:\\Users\\thoma\\Code\\Projects\\Fantasy-Premier-League\\Performance\\Model_1.csv')\n",
    "m2 = pd.read_csv(r'C:\\Users\\thoma\\Code\\Projects\\Fantasy-Premier-League\\Performance\\Model_2.csv')\n",
    "m2_1 = pd.read_csv(r'C:\\Users\\thoma\\Code\\Projects\\Fantasy-Premier-League\\Performance\\Model_2.1.csv')\n",
    "\n",
    "# Function to convert model information\n",
    "def convert_data(model):\n",
    "    # Data list to store extracted information\n",
    "    data = []\n",
    "\n",
    "    # Iterate over each row in the DataFrame\n",
    "    for index, row in model.iterrows():\n",
    "        week = row['Gameweek']  # Extract the Gameweek for the current row\n",
    "        \n",
    "        # Loop through each column (excluding 'Gameweek' if necessary)\n",
    "        for col in model.columns:\n",
    "            if col != 'Gameweek':  # Skip the Gameweek column if not part of players\n",
    "                player = row[col]  # Extract the player name or value from the column\n",
    "                if pd.notnull(player):  # Check if the value is not NaN\n",
    "                    # Append the Gameweek and player to the data list\n",
    "                    data.append([week, player])\n",
    "\n",
    "    # Convert the data list into a DataFrame\n",
    "    result_model = pd.DataFrame(data, columns=['Gameweek', 'Last_Name'])\n",
    "\n",
    "    return result_model\n",
    "\n",
    "\n",
    "# Convert csv files to make useable\n",
    "model_1 = convert_data(m1)\n",
    "model_2 = convert_data(m2)\n",
    "model_2_1 = convert_data(m2_1)"
   ]
  },
  {
   "cell_type": "markdown",
   "metadata": {},
   "source": [
    "# Calculate weekly points"
   ]
  },
  {
   "cell_type": "code",
   "execution_count": 53,
   "metadata": {},
   "outputs": [
    {
     "name": "stdout",
     "output_type": "stream",
     "text": [
      "    Gameweek  Model_1  Model_2  Model_2.1\n",
      "0          6       50       57         44\n",
      "1          7       48       52         35\n",
      "2          8       35       39         20\n",
      "3          9       49       66         34\n",
      "4         10       35       39         31\n",
      "5         11       64       69         37\n",
      "6         12       56       55         35\n",
      "7         13       42       83         33\n",
      "8         14       44       53         49\n",
      "9         15       28       26         33\n",
      "10        16       30       72         25\n"
     ]
    }
   ],
   "source": [
    "def merge_models (model, player_data):\n",
    "    data = player_data.merge(model, on= ['Gameweek', 'Last_Name'])\n",
    "    data = data[['Gameweek', 'Last_Name', 'GW Points']]\n",
    "    return data\n",
    "\n",
    "# Define a function to process and sum GW Points by Gameweek\n",
    "def process_and_group(data, player_data):\n",
    "    merged_data = merge_models(data, player_data)\n",
    "    grouped_data = merged_data.groupby('Gameweek', as_index=False).sum('GW Points')\n",
    "    return grouped_data\n",
    "\n",
    "# Process each dataset\n",
    "data_1_grouped = process_and_group(model_1, player_data)\n",
    "data_2_grouped = process_and_group(model_2, player_data)\n",
    "data_2_1_grouped = process_and_group(model_2_1, player_data)\n",
    "\n",
    "# Merge all grouped data on Gameweek\n",
    "final_data = data_1_grouped.merge(\n",
    "    data_2_grouped, on='Gameweek', suffixes=('_data_1', '_data_2')\n",
    ").merge(\n",
    "    data_2_1_grouped, on='Gameweek', suffixes=('', '_data_2_1')\n",
    ")\n",
    "\n",
    "# Final data\n",
    "final_data = pd.DataFrame(final_data)\n",
    "\n",
    "# Rename columns for better readability\n",
    "final_data.rename(columns={\n",
    "    'GW Points_data_1': 'Model_1',\n",
    "    'GW Points_data_2': 'Model_2',\n",
    "    'GW Points': 'Model_2.1'\n",
    "}, inplace=True)\n",
    "\n",
    "# Display the renamed DataFrame\n",
    "print(final_data)"
   ]
  },
  {
   "cell_type": "code",
   "execution_count": 46,
   "metadata": {},
   "outputs": [],
   "source": [
    "# Export to csv\n",
    "#final_data.to_csv('Model_performance.csv')"
   ]
  }
 ],
 "metadata": {
  "kernelspec": {
   "display_name": "Python 3",
   "language": "python",
   "name": "python3"
  },
  "language_info": {
   "codemirror_mode": {
    "name": "ipython",
    "version": 3
   },
   "file_extension": ".py",
   "mimetype": "text/x-python",
   "name": "python",
   "nbconvert_exporter": "python",
   "pygments_lexer": "ipython3",
   "version": "3.13.0"
  }
 },
 "nbformat": 4,
 "nbformat_minor": 2
}
