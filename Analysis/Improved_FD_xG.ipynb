{
 "cells": [
  {
   "cell_type": "markdown",
   "metadata": {},
   "source": [
    "## Which opponent is the most difficult to score points against? (xG analysis)"
   ]
  },
  {
   "cell_type": "code",
   "execution_count": 1,
   "metadata": {},
   "outputs": [],
   "source": [
    "import pandas as pd\n",
    "from sklearn.preprocessing import MinMaxScaler"
   ]
  },
  {
   "cell_type": "code",
   "execution_count": 2,
   "metadata": {},
   "outputs": [],
   "source": [
    "# URL to team data\n",
    "url = 'https://fbref.com/en/comps/9/Premier-League-Stats#all_stats_squads_standard'"
   ]
  },
  {
   "cell_type": "code",
   "execution_count": 3,
   "metadata": {},
   "outputs": [],
   "source": [
    "# Read the URL\n",
    "df = pd.read_html(url)[1]"
   ]
  },
  {
   "cell_type": "code",
   "execution_count": 4,
   "metadata": {},
   "outputs": [],
   "source": [
    "# Convert to pandas dataframe\n",
    "data = pd.DataFrame(df)\n",
    "\n",
    "# Get unique team data\n",
    "teams = data[('Unnamed: 1_level_0', 'Squad')].unique()"
   ]
  },
  {
   "cell_type": "code",
   "execution_count": 5,
   "metadata": {},
   "outputs": [],
   "source": [
    "def extract_team_stats(data, location):\n",
    "    \"\"\"\n",
    "    Extracts team-level match stats (MP, xG, xGA) and computes averages\n",
    "    for either 'Home' or 'Away' matches.\n",
    "    \n",
    "    Parameters:\n",
    "        data (pd.DataFrame): The full match dataset with multi-level columns.\n",
    "        location (str): 'Home' or 'Away'\n",
    "    \n",
    "    Returns:\n",
    "        pd.DataFrame: Cleaned and processed DataFrame of team stats.\n",
    "    \"\"\"\n",
    "    result = []\n",
    "\n",
    "    # Get the list of unique team names\n",
    "    teams = data[('Unnamed: 1_level_0', 'Squad')].unique()\n",
    "\n",
    "    for team in teams:\n",
    "        # Filter rows for the current team\n",
    "        team_data = data[data[('Unnamed: 1_level_0', 'Squad')] == team]\n",
    "\n",
    "        if not team_data.empty:\n",
    "            # Extract stats for that team and append to result list\n",
    "            mp = team_data[(location, 'MP')].iloc[0]\n",
    "            xg = team_data[(location, 'xG')].iloc[0]\n",
    "            xga = team_data[(location, 'xGA')].iloc[0]\n",
    "            result.append([team, mp, xg, xga])\n",
    "\n",
    "    # Convert list to DataFrame and calculate averages\n",
    "    df = pd.DataFrame(result, columns=['Team', 'MP', 'xG', 'xGA'])\n",
    "    df['Av_xG'] = round(df['xG'] / df['MP'], 3)\n",
    "    df['Av_xGA'] = round(df['xGA'] / df['MP'], 3)\n",
    "\n",
    "    # Sort teams by average xG in descending order\n",
    "    return df.sort_values(by='Av_xG', ascending=False).reset_index(drop=True)"
   ]
  },
  {
   "cell_type": "code",
   "execution_count": 6,
   "metadata": {},
   "outputs": [],
   "source": [
    "# Collect data\n",
    "home_data = extract_team_stats(data, location = 'Home')\n",
    "away_data = extract_team_stats(data, location = 'Away')"
   ]
  },
  {
   "cell_type": "code",
   "execution_count": 7,
   "metadata": {},
   "outputs": [],
   "source": [
    "def standardize_data(data, columns_to_standardize):\n",
    "    \"\"\"\n",
    "    Standardizes selected columns in the dataset using Min-Max scaling.\n",
    "\n",
    "    Parameters:\n",
    "        data (pd.DataFrame): DataFrame with team data.\n",
    "        columns_to_standardize (list): Columns to be standardized.\n",
    "\n",
    "    Returns:\n",
    "        pd.DataFrame: DataFrame with added standardized columns.\n",
    "    \"\"\"\n",
    "    data_copy = data.copy()\n",
    "    scaler = MinMaxScaler()\n",
    "    \n",
    "    scaled_values = scaler.fit_transform(data_copy[columns_to_standardize])\n",
    "    \n",
    "    for i, col in enumerate(columns_to_standardize):\n",
    "        data_copy[col + '_std'] = scaled_values[:, i].round(3)\n",
    "\n",
    "    return data_copy"
   ]
  },
  {
   "cell_type": "code",
   "execution_count": 8,
   "metadata": {},
   "outputs": [],
   "source": [
    "def rank_data(data, metric, num_quantiles=5):\n",
    "    \"\"\"\n",
    "    Ranks teams based on a standardized metric and assigns difficulty scores.\n",
    "\n",
    "    Parameters:\n",
    "        data (pd.DataFrame): DataFrame with standardized metric columns.\n",
    "        metric (str): Column name to rank by (e.g., 'Av_xG_std', 'Av_xGA_std').\n",
    "        num_quantiles (int): Number of difficulty tiers (default: 5).\n",
    "\n",
    "    Returns:\n",
    "        pd.DataFrame: Ranked DataFrame with difficulty scores.\n",
    "    \"\"\"\n",
    "    data = data.copy()\n",
    "\n",
    "    # Decide whether to reverse quantile labels based on the metric\n",
    "    reverse = metric.lower() in ['av_xga_std', 'xga_std']\n",
    "\n",
    "    # Sort in the appropriate direction\n",
    "    data = data.sort_values(by=metric, ascending=not reverse)\n",
    "\n",
    "    # Create quantile labels\n",
    "    labels = list(range(1, num_quantiles + 1))\n",
    "    if reverse:\n",
    "        labels = labels[::-1]  # Reverse if lower = harder\n",
    "\n",
    "    # Assign difficulty scores\n",
    "    data['Difficulty'] = pd.qcut(data[metric], q=num_quantiles, labels=labels)\n",
    "\n",
    "    return data[['Team', metric, 'Difficulty']]"
   ]
  },
  {
   "cell_type": "code",
   "execution_count": 9,
   "metadata": {},
   "outputs": [],
   "source": [
    "# Standardize data\n",
    "standardized_home = standardize_data(home_data, ['Av_xG', 'Av_xGA'])\n",
    "standardized_away = standardize_data(away_data, ['Av_xG', 'Av_xGA'])\n",
    "\n",
    "# Home statistics\n",
    "home_attack = rank_data(standardized_home, metric='Av_xG_std')\n",
    "home_defense = rank_data(standardized_home, metric='Av_xGA_std')\n",
    "\n",
    "# Away statistics\n",
    "away_attack = rank_data(standardized_away, metric='Av_xG_std')\n",
    "away_defense = rank_data(standardized_away, metric='Av_xGA_std')"
   ]
  },
  {
   "cell_type": "markdown",
   "metadata": {},
   "source": [
    "home_attack {A defender who is away (A) to these clubs with have a difficulty of 5.}\n",
    "away_attack {A defender who is at home (H) to these clubs with have a difficulty of 5.}\n",
    "home_defense {An attacker who plays away (A) to these clubs with have a difficulty of 5.}\n",
    "away_defense {An attacker who plays home (H) to these clubs with have a difficulty of 5.}"
   ]
  },
  {
   "cell_type": "code",
   "execution_count": 10,
   "metadata": {},
   "outputs": [],
   "source": [
    "# Create a dictionary mapping full team names to their 3-letter codes plus (A)\n",
    "team_to_code_A = {\n",
    "    \"Arsenal\": \"ARS (A)\",\n",
    "    \"Aston Villa\": \"AVL (A)\",\n",
    "    \"Brentford\": \"BRE (A)\",\n",
    "    \"Brighton\": \"BHA (A)\",\n",
    "    \"Bournemouth\": \"BOU (A)\",\n",
    "    \"Burnley\": \"BUR (A)\",\n",
    "    \"Chelsea\": \"CHE (A)\",\n",
    "    \"Crystal Palace\": \"CRY (A)\",\n",
    "    \"Everton\": \"EVE (A)\",\n",
    "    \"Fulham\": \"FUL (A)\",\n",
    "    \"Leeds United\": \"LEE (A)\",\n",
    "    \"Liverpool\": \"LIV (A)\",\n",
    "    \"Manchester City\": \"MCI (A)\",\n",
    "    \"Manchester Utd\": \"MUN (A)\",\n",
    "    \"Newcastle Utd\": \"NEW (A)\",\n",
    "    \"Nott'ham Forest\": \"NFO (A)\",\n",
    "    \"Sunderland\": \"SUN (A)\",\n",
    "    \"Tottenham\": \"TOT (A)\",\n",
    "    \"West Ham\": \"WHU (A)\",\n",
    "    \"Wolves\": \"WOL (A)\"\n",
    "}\n",
    "\n",
    "# Create a dictionary mapping full team names to their 3-letter codes plus (H)\n",
    "team_to_code_H = {\n",
    "    \"Arsenal\": \"ARS (H)\",\n",
    "    \"Aston Villa\": \"AVL (H)\",\n",
    "    \"Brentford\": \"BRE (H)\",\n",
    "    \"Brighton\": \"BHA (H)\",\n",
    "    \"Bournemouth\": \"BOU (H)\",\n",
    "    \"Burnley\": \"BUR (H)\",\n",
    "    \"Chelsea\": \"CHE (H)\",\n",
    "    \"Crystal Palace\": \"CRY (H)\",\n",
    "    \"Everton\": \"EVE (H)\",\n",
    "    \"Fulham\": \"FUL (H)\",\n",
    "    \"Leeds United\": \"LEE (H)\",\n",
    "    \"Liverpool\": \"LIV (H)\",\n",
    "    \"Manchester City\": \"MCI (H)\",\n",
    "    \"Manchester Utd\": \"MUN (H)\",\n",
    "    \"Newcastle Utd\": \"NEW (H)\",\n",
    "    \"Nott'ham Forest\": \"NFO (H)\",\n",
    "    \"Sunderland\": \"SUN (H)\",\n",
    "    \"Tottenham\": \"TOT (H)\",\n",
    "    \"West Ham\": \"WHU (H)\",\n",
    "    \"Wolves\": \"WOL (H)\"\n",
    "}"
   ]
  },
  {
   "cell_type": "code",
   "execution_count": 11,
   "metadata": {},
   "outputs": [],
   "source": [
    "def create_position_df(base_df, team_code_map, position, side_label):\n",
    "    \"\"\"\n",
    "    Creates a new DataFrame for a specific player position and team code mapping.\n",
    "\n",
    "    Parameters:\n",
    "        base_df (pd.DataFrame): The starting DataFrame (e.g., home_attack).\n",
    "        team_code_map (dict): Mapping of full team names to FPL team codes.\n",
    "        position (str): The FPL player position ('GK', 'DEF', 'MID', 'FWD').\n",
    "        side_label (str): Label to indicate home/away side ('H' or 'A').\n",
    "\n",
    "    Returns:\n",
    "        pd.DataFrame: A copy of the DataFrame with 'Team' converted and 'Position' added.\n",
    "    \"\"\"\n",
    "    df = base_df.copy()\n",
    "    df['Team'] = df['Team'].replace(team_code_map)\n",
    "    df['Position'] = position\n",
    "    df['Side'] = side_label\n",
    "    return df"
   ]
  },
  {
   "cell_type": "code",
   "execution_count": 12,
   "metadata": {},
   "outputs": [],
   "source": [
    "# Defensive players away\n",
    "goalkeepers_A = create_position_df(home_attack, team_to_code_A, 'GK', 'A')\n",
    "defenders_A   = create_position_df(home_attack, team_to_code_A, 'DEF', 'A')\n",
    "\n",
    "# Defensive players home\n",
    "goalkeepers_H = create_position_df(away_attack, team_to_code_H, 'GK', 'H')\n",
    "defenders_H   = create_position_df(away_attack, team_to_code_H, 'DEF', 'H')\n",
    "\n",
    "# Attacking players away\n",
    "midfielders_A = create_position_df(home_defense, team_to_code_A, 'MID', 'A')\n",
    "forwards_A    = create_position_df(home_defense, team_to_code_A, 'FWD', 'A')\n",
    "\n",
    "# Attacking players home\n",
    "midfielders_H = create_position_df(away_defense, team_to_code_H, 'MID', 'H')\n",
    "forwards_H    = create_position_df(away_defense, team_to_code_H, 'FWD', 'H')"
   ]
  },
  {
   "cell_type": "code",
   "execution_count": 13,
   "metadata": {},
   "outputs": [],
   "source": [
    "# Combine into dataframe\n",
    "FD_xG = pd.concat([goalkeepers_A, goalkeepers_H, defenders_A, defenders_H, midfielders_A, midfielders_H, forwards_A, forwards_H])\n",
    "# Rename columns\n",
    "FD_xG.rename(columns = {'Team': 'Opponent'}, inplace = True)"
   ]
  },
  {
   "cell_type": "code",
   "execution_count": 16,
   "metadata": {},
   "outputs": [],
   "source": [
    "FD_xG.to_csv(r'C:\\Users\\thoma\\OneDrive\\Documents\\test.csv')"
   ]
  }
 ],
 "metadata": {
  "kernelspec": {
   "display_name": "FPL",
   "language": "python",
   "name": "python3"
  },
  "language_info": {
   "codemirror_mode": {
    "name": "ipython",
    "version": 3
   },
   "file_extension": ".py",
   "mimetype": "text/x-python",
   "name": "python",
   "nbconvert_exporter": "python",
   "pygments_lexer": "ipython3",
   "version": "3.9.16"
  }
 },
 "nbformat": 4,
 "nbformat_minor": 2
}
