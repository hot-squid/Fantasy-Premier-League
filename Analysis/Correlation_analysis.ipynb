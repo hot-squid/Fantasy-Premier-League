{
 "cells": [
  {
   "cell_type": "markdown",
   "metadata": {},
   "source": [
    "## Correlation and Partial Correlation Analysis"
   ]
  },
  {
   "cell_type": "code",
   "execution_count": 1,
   "metadata": {},
   "outputs": [],
   "source": [
    "import pandas as pd\n",
    "import numpy as np\n",
    "import matplotlib.pyplot as plt\n",
    "from sklearn.preprocessing import MinMaxScaler, StandardScaler\n",
    "from sklearn.model_selection import train_test_split, StratifiedKFold\n",
    "from imblearn.over_sampling import SMOTE\n",
    "from scipy.stats import boxcox, zscore"
   ]
  },
  {
   "cell_type": "code",
   "execution_count": 2,
   "metadata": {},
   "outputs": [],
   "source": [
    "# Global parameters\n",
    "\n",
    "# Current gameweek \n",
    "gameweek = 11\n",
    "\n",
    "# Number of gameweeks to calculate rolling averages off \n",
    "rolling_number = 3"
   ]
  },
  {
   "cell_type": "markdown",
   "metadata": {},
   "source": [
    "## Collect available player data"
   ]
  },
  {
   "cell_type": "code",
   "execution_count": 3,
   "metadata": {},
   "outputs": [],
   "source": [
    "# Initialize an empty list to store all individual, player gameweek data \n",
    "all_player_sep = []\n",
    "\n",
    "# Loop through each gameweek\n",
    "for i in range(1, gameweek + 1):  # Adjusting the range to start from 1 to gameweek\n",
    "    # Read the CSV for the current gameweek\n",
    "    x = pd.read_csv(rf'C:\\Users\\thoma\\Code\\Projects\\Fantasy-Premier-League\\Data\\Players\\Seperate_GW\\GW_{i}.csv')\n",
    "    \n",
    "    # Append the current gameweek data to the list\n",
    "    all_player_sep.append(x)\n",
    "\n",
    "# Concatenate all dataframes in the list into a single dataframe\n",
    "player_data = pd.concat(all_player_sep, axis=0, ignore_index=True)\n",
    "\n",
    "# Drop unnamed column\n",
    "player_data = player_data.drop(columns = ['Unnamed: 0'])"
   ]
  },
  {
   "cell_type": "code",
   "execution_count": 4,
   "metadata": {},
   "outputs": [],
   "source": [
    "# Remove players who play less than 61 minutes in a game (i.e. they do not recieve their 2 points minimum for playoing this amount)\n",
    "player_data = player_data[player_data['Minutes'] > 60].copy()"
   ]
  },
  {
   "cell_type": "code",
   "execution_count": 5,
   "metadata": {},
   "outputs": [],
   "source": [
    "# Filter by Goalkeepers, Defenders, Midfielders, and Forwards\n",
    "final_data_mids = player_data[player_data['Position'] == 'MID'].copy()\n",
    "final_data_defs = player_data[player_data['Position'] == 'DEF'].copy()\n",
    "final_data_gks = player_data[player_data['Position'] == 'GK'].copy()\n",
    "final_data_fwds = player_data[player_data['Position'] == 'FWD'].copy()"
   ]
  },
  {
   "cell_type": "code",
   "execution_count": 6,
   "metadata": {},
   "outputs": [
    {
     "name": "stdout",
     "output_type": "stream",
     "text": [
      "GK: (219, 33)\n",
      "DEF: (859, 33)\n",
      "MID: (952, 33)\n",
      "FWD: (218, 33)\n"
     ]
    }
   ],
   "source": [
    "## Assess sample size of each category\n",
    "print(f'GK:',final_data_gks.shape)\n",
    "print(f'DEF:',final_data_defs.shape)\n",
    "print(f'MID:',final_data_mids.shape)\n",
    "print(f'FWD:',final_data_fwds.shape)"
   ]
  }
 ],
 "metadata": {
  "kernelspec": {
   "display_name": "Python 3",
   "language": "python",
   "name": "python3"
  },
  "language_info": {
   "codemirror_mode": {
    "name": "ipython",
    "version": 3
   },
   "file_extension": ".py",
   "mimetype": "text/x-python",
   "name": "python",
   "nbconvert_exporter": "python",
   "pygments_lexer": "ipython3",
   "version": "3.11.4"
  }
 },
 "nbformat": 4,
 "nbformat_minor": 2
}
